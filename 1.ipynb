{
 "cells": [
  {
   "cell_type": "code",
   "execution_count": 3,
   "metadata": {},
   "outputs": [],
   "source": [
    "import numpy as np\n",
    "import scipy.io"
   ]
  },
  {
   "cell_type": "code",
   "execution_count": 2,
   "metadata": {},
   "outputs": [],
   "source": [
    "#load data_subject_I.npy\n",
    "\n",
    "data = np.load('data_subject_I.npy')"
   ]
  },
  {
   "cell_type": "code",
   "execution_count": 5,
   "metadata": {},
   "outputs": [
    {
     "data": {
      "text/plain": [
       "array([[-1.39391795, -0.49561   , -1.76625698, ..., -0.76615806,\n",
       "        -0.23244562, -0.14687156],\n",
       "       [ 0.53045415, -0.23248598,  0.35258046, ..., -0.00231856,\n",
       "        -0.24648212, -0.42928428],\n",
       "       [ 1.13308842,  0.33180387, -0.31458903, ...,  0.81599387,\n",
       "         1.31184511,  1.38407545],\n",
       "       ...,\n",
       "       [-1.5389841 , -2.01615294, -1.86653802, ..., -0.53180136,\n",
       "        -0.28571028,  0.37972915],\n",
       "       [-0.8578087 , -0.38549941, -0.77768154, ...,  0.11137602,\n",
       "        -0.0418572 ,  0.85104556],\n",
       "       [ 0.34480094, -0.19645626, -0.7265258 , ..., -0.07650719,\n",
       "        -0.11008846,  0.28848794]])"
      ]
     },
     "execution_count": 5,
     "metadata": {},
     "output_type": "execute_result"
    }
   ],
   "source": [
    "data"
   ]
  },
  {
   "cell_type": "code",
   "execution_count": 19,
   "metadata": {},
   "outputs": [],
   "source": [
    "data = np.load('data/fmri/data_subject_I.npy')"
   ]
  },
  {
   "cell_type": "code",
   "execution_count": 20,
   "metadata": {},
   "outputs": [
    {
     "data": {
      "text/plain": [
       "(1211, 25263)"
      ]
     },
     "execution_count": 20,
     "metadata": {},
     "output_type": "execute_result"
    }
   ],
   "source": [
    "data.shape"
   ]
  },
  {
   "cell_type": "code",
   "execution_count": 3,
   "metadata": {},
   "outputs": [],
   "source": [
    "mat_data = scipy.io.loadmat('story_features.mat')"
   ]
  },
  {
   "cell_type": "markdown",
   "metadata": {},
   "source": [
    "Features of the dataset"
   ]
  },
  {
   "cell_type": "code",
   "execution_count": 4,
   "metadata": {},
   "outputs": [
    {
     "name": "stdout",
     "output_type": "stream",
     "text": [
      "[('type', 'O'), ('names', 'O'), ('values', 'O')]\n"
     ]
    },
    {
     "data": {
      "text/plain": [
       "{'__header__': b'MATLAB 5.0 MAT-file, Platform: MACI64, Created on: Thu Sep 25 18:45:34 2014',\n",
       " '__version__': '1.0',\n",
       " '__globals__': [],\n",
       " 'features': array([[(array(['NNSE'], dtype='<U4'), array([[array(['s1000_1'], dtype='<U7'),\n",
       "                 array(['s1000_10'], dtype='<U8'),\n",
       "                 array(['s1000_15'], dtype='<U8'),\n",
       "                 array(['s1000_21'], dtype='<U8'),\n",
       "                 array(['s1000_30'], dtype='<U8'),\n",
       "                 array(['s1000_48'], dtype='<U8'),\n",
       "                 array(['s1000_66'], dtype='<U8'),\n",
       "                 array(['s1000_72'], dtype='<U8'),\n",
       "                 array(['s1000_75'], dtype='<U8'),\n",
       "                 array(['s1000_82'], dtype='<U8'),\n",
       "                 array(['s1000_97'], dtype='<U8'),\n",
       "                 array(['s1000_98'], dtype='<U8'),\n",
       "                 array(['s1000_117'], dtype='<U9'),\n",
       "                 array(['s1000_132'], dtype='<U9'),\n",
       "                 array(['s1000_135'], dtype='<U9'),\n",
       "                 array(['s1000_163'], dtype='<U9'),\n",
       "                 array(['s1000_170'], dtype='<U9'),\n",
       "                 array(['s1000_182'], dtype='<U9'),\n",
       "                 array(['s1000_197'], dtype='<U9'),\n",
       "                 array(['s1000_213'], dtype='<U9'),\n",
       "                 array(['s1000_222'], dtype='<U9'),\n",
       "                 array(['s1000_253'], dtype='<U9'),\n",
       "                 array(['s1000_255'], dtype='<U9'),\n",
       "                 array(['s1000_264'], dtype='<U9'),\n",
       "                 array(['s1000_282'], dtype='<U9'),\n",
       "                 array(['s1000_284'], dtype='<U9'),\n",
       "                 array(['s1000_286'], dtype='<U9'),\n",
       "                 array(['s1000_297'], dtype='<U9'),\n",
       "                 array(['s1000_298'], dtype='<U9'),\n",
       "                 array(['s1000_303'], dtype='<U9'),\n",
       "                 array(['s1000_312'], dtype='<U9'),\n",
       "                 array(['s1000_319'], dtype='<U9'),\n",
       "                 array(['s1000_323'], dtype='<U9'),\n",
       "                 array(['s1000_324'], dtype='<U9'),\n",
       "                 array(['s1000_334'], dtype='<U9'),\n",
       "                 array(['s1000_349'], dtype='<U9'),\n",
       "                 array(['s1000_373'], dtype='<U9'),\n",
       "                 array(['s1000_380'], dtype='<U9'),\n",
       "                 array(['s1000_389'], dtype='<U9'),\n",
       "                 array(['s1000_399'], dtype='<U9'),\n",
       "                 array(['s1000_430'], dtype='<U9'),\n",
       "                 array(['s1000_435'], dtype='<U9'),\n",
       "                 array(['s1000_447'], dtype='<U9'),\n",
       "                 array(['s1000_454'], dtype='<U9'),\n",
       "                 array(['s1000_456'], dtype='<U9'),\n",
       "                 array(['s1000_467'], dtype='<U9'),\n",
       "                 array(['s1000_469'], dtype='<U9'),\n",
       "                 array(['s1000_474'], dtype='<U9'),\n",
       "                 array(['s1000_475'], dtype='<U9'),\n",
       "                 array(['s1000_488'], dtype='<U9'),\n",
       "                 array(['s1000_493'], dtype='<U9'),\n",
       "                 array(['s1000_509'], dtype='<U9'),\n",
       "                 array(['s1000_512'], dtype='<U9'),\n",
       "                 array(['s1000_519'], dtype='<U9'),\n",
       "                 array(['s1000_527'], dtype='<U9'),\n",
       "                 array(['s1000_535'], dtype='<U9'),\n",
       "                 array(['s1000_538'], dtype='<U9'),\n",
       "                 array(['s1000_545'], dtype='<U9'),\n",
       "                 array(['s1000_549'], dtype='<U9'),\n",
       "                 array(['s1000_557'], dtype='<U9'),\n",
       "                 array(['s1000_560'], dtype='<U9'),\n",
       "                 array(['s1000_566'], dtype='<U9'),\n",
       "                 array(['s1000_582'], dtype='<U9'),\n",
       "                 array(['s1000_586'], dtype='<U9'),\n",
       "                 array(['s1000_592'], dtype='<U9'),\n",
       "                 array(['s1000_603'], dtype='<U9'),\n",
       "                 array(['s1000_612'], dtype='<U9'),\n",
       "                 array(['s1000_615'], dtype='<U9'),\n",
       "                 array(['s1000_620'], dtype='<U9'),\n",
       "                 array(['s1000_635'], dtype='<U9'),\n",
       "                 array(['s1000_646'], dtype='<U9'),\n",
       "                 array(['s1000_653'], dtype='<U9'),\n",
       "                 array(['s1000_673'], dtype='<U9'),\n",
       "                 array(['s1000_681'], dtype='<U9'),\n",
       "                 array(['s1000_696'], dtype='<U9'),\n",
       "                 array(['s1000_698'], dtype='<U9'),\n",
       "                 array(['s1000_700'], dtype='<U9'),\n",
       "                 array(['s1000_722'], dtype='<U9'),\n",
       "                 array(['s1000_724'], dtype='<U9'),\n",
       "                 array(['s1000_774'], dtype='<U9'),\n",
       "                 array(['s1000_775'], dtype='<U9'),\n",
       "                 array(['s1000_777'], dtype='<U9'),\n",
       "                 array(['s1000_779'], dtype='<U9'),\n",
       "                 array(['s1000_780'], dtype='<U9'),\n",
       "                 array(['s1000_784'], dtype='<U9'),\n",
       "                 array(['s1000_796'], dtype='<U9'),\n",
       "                 array(['s1000_797'], dtype='<U9'),\n",
       "                 array(['s1000_808'], dtype='<U9'),\n",
       "                 array(['s1000_856'], dtype='<U9'),\n",
       "                 array(['s1000_859'], dtype='<U9'),\n",
       "                 array(['s1000_864'], dtype='<U9'),\n",
       "                 array(['s1000_866'], dtype='<U9'),\n",
       "                 array(['s1000_873'], dtype='<U9'),\n",
       "                 array(['s1000_893'], dtype='<U9'),\n",
       "                 array(['s1000_928'], dtype='<U9'),\n",
       "                 array(['s1000_946'], dtype='<U9'),\n",
       "                 array(['s1000_971'], dtype='<U9'),\n",
       "                 array(['s1000_977'], dtype='<U9'),\n",
       "                 array(['s1000_978'], dtype='<U9'),\n",
       "                 array(['s1000_984'], dtype='<U9')]], dtype=object), array([[0.12193731, 0.        , 0.        , ..., 0.        , 0.        ,\n",
       "                 0.        ],\n",
       "                [0.        , 0.        , 0.        , ..., 0.        , 0.        ,\n",
       "                 0.        ],\n",
       "                [0.        , 0.        , 0.        , ..., 0.        , 0.        ,\n",
       "                 0.37453349],\n",
       "                ...,\n",
       "                [0.        , 0.        , 0.01285555, ..., 0.        , 0.        ,\n",
       "                 0.        ],\n",
       "                [0.        , 0.        , 0.        , ..., 0.        , 0.        ,\n",
       "                 0.        ],\n",
       "                [0.        , 0.        , 0.        , ..., 0.        , 0.        ,\n",
       "                 0.        ]]))                                                                                                              ,\n",
       "         (array(['Speech'], dtype='<U6'), array([[array(['speak_sticky'], dtype='<U12'),\n",
       "                 array(['speak'], dtype='<U5')]], dtype=object), array([[0, 0],\n",
       "                [0, 0],\n",
       "                [0, 0],\n",
       "                ...,\n",
       "                [0, 0],\n",
       "                [0, 0],\n",
       "                [0, 0]], dtype=uint8))                                                  ,\n",
       "         (array(['Motion'], dtype='<U6'), array([[array(['fly_sticky'], dtype='<U10'),\n",
       "                 array(['manipulate_sticky'], dtype='<U17'),\n",
       "                 array(['move_sticky'], dtype='<U11'),\n",
       "                 array(['collidePhys_sticky'], dtype='<U18'),\n",
       "                 array(['fly'], dtype='<U3'), array(['manipulate'], dtype='<U10'),\n",
       "                 array(['move'], dtype='<U4')]], dtype=object), array([[0, 0, 0, ..., 0, 0, 0],\n",
       "                [0, 0, 0, ..., 0, 0, 0],\n",
       "                [0, 0, 0, ..., 0, 0, 0],\n",
       "                ...,\n",
       "                [0, 0, 0, ..., 0, 0, 0],\n",
       "                [0, 0, 0, ..., 0, 0, 0],\n",
       "                [0, 0, 0, ..., 0, 0, 0]], dtype=uint8))                                        ,\n",
       "         (array(['Emotion'], dtype='<U7'), array([[array(['annoyed'], dtype='<U7'),\n",
       "                 array(['commanding'], dtype='<U10'),\n",
       "                 array(['dislike'], dtype='<U7'), array(['fear'], dtype='<U4'),\n",
       "                 array(['like'], dtype='<U4'),\n",
       "                 array(['nervousness'], dtype='<U11'),\n",
       "                 array(['questioning'], dtype='<U11'),\n",
       "                 array(['wonder'], dtype='<U6'),\n",
       "                 array(['annoyed_sticky'], dtype='<U14'),\n",
       "                 array(['commanding_sticky'], dtype='<U17'),\n",
       "                 array(['cynical_sticky'], dtype='<U14'),\n",
       "                 array(['dislike_sticky'], dtype='<U14'),\n",
       "                 array(['fear_sticky'], dtype='<U11'),\n",
       "                 array(['hurtMental_sticky'], dtype='<U17'),\n",
       "                 array(['hurtPhys_sticky'], dtype='<U15'),\n",
       "                 array(['like_sticky'], dtype='<U11'),\n",
       "                 array(['nervousness_sticky'], dtype='<U18'),\n",
       "                 array(['pleading_sticky'], dtype='<U15'),\n",
       "                 array(['praising_sticky'], dtype='<U15'),\n",
       "                 array(['pride_sticky'], dtype='<U12'),\n",
       "                 array(['questioning_sticky'], dtype='<U18'),\n",
       "                 array(['relief_sticky'], dtype='<U13'),\n",
       "                 array(['wonder_sticky'], dtype='<U13')]], dtype=object), array([[0, 0, 0, ..., 0, 0, 0],\n",
       "                [0, 0, 0, ..., 0, 0, 0],\n",
       "                [0, 0, 0, ..., 0, 0, 0],\n",
       "                ...,\n",
       "                [0, 0, 0, ..., 0, 0, 0],\n",
       "                [0, 0, 0, ..., 0, 0, 0],\n",
       "                [0, 0, 0, ..., 0, 0, 0]], dtype=uint8))                                                  ,\n",
       "         (array(['Verbs'], dtype='<U5'), array([[array(['be'], dtype='<U2'), array(['hear'], dtype='<U4'),\n",
       "                 array(['know'], dtype='<U4'), array(['see'], dtype='<U3'),\n",
       "                 array(['tell'], dtype='<U4')]], dtype=object), array([[0, 0, 0, 0, 0],\n",
       "                [0, 0, 0, 0, 0],\n",
       "                [0, 0, 0, 0, 0],\n",
       "                ...,\n",
       "                [0, 0, 0, 0, 0],\n",
       "                [0, 0, 0, 0, 0],\n",
       "                [0, 0, 0, 0, 0]], dtype=uint8))                                                           ,\n",
       "         (array(['Characters'], dtype='<U10'), array([[array(['draco'], dtype='<U5'), array(['filch'], dtype='<U5'),\n",
       "                 array(['harry'], dtype='<U5'), array(['herm'], dtype='<U4'),\n",
       "                 array(['hooch'], dtype='<U5'), array(['minerva'], dtype='<U7'),\n",
       "                 array(['neville'], dtype='<U7'), array(['peeves'], dtype='<U6'),\n",
       "                 array(['ron'], dtype='<U3'), array(['wood'], dtype='<U4')]],\n",
       "               dtype=object), array([[0, 0, 1, ..., 0, 0, 0],\n",
       "                [0, 0, 0, ..., 0, 0, 0],\n",
       "                [0, 0, 0, ..., 0, 0, 0],\n",
       "                ...,\n",
       "                [0, 0, 0, ..., 0, 0, 0],\n",
       "                [0, 0, 0, ..., 0, 0, 0],\n",
       "                [0, 0, 0, ..., 0, 0, 0]], dtype=uint8))                                                             ,\n",
       "         (array(['Visual'], dtype='<U6'), array([[array(['word_length'], dtype='<U11'),\n",
       "                 array(['var_WL'], dtype='<U6')]], dtype=object), array([[5, 0],\n",
       "                [3, 0],\n",
       "                [5, 0],\n",
       "                ...,\n",
       "                [8, 0],\n",
       "                [4, 0],\n",
       "                [1, 0]], dtype=uint8))                                                 ,\n",
       "         (array(['Word_Num'], dtype='<U8'), array(['sentence_length'], dtype='<U15'), array([[ 1],\n",
       "                [ 2],\n",
       "                [ 3],\n",
       "                ...,\n",
       "                [19],\n",
       "                [20],\n",
       "                [ 0]], dtype=uint8))                                                              ,\n",
       "         (array(['Part_of_speech'], dtype='<U14'), array([[array([','], dtype='<U1'), array(['.'], dtype='<U1'),\n",
       "                 array([':'], dtype='<U1'), array(['CC'], dtype='<U2'),\n",
       "                 array(['CD'], dtype='<U2'), array(['DT'], dtype='<U2'),\n",
       "                 array(['IN'], dtype='<U2'), array(['JJ'], dtype='<U2'),\n",
       "                 array(['MD'], dtype='<U2'), array(['NN'], dtype='<U2'),\n",
       "                 array(['NNP'], dtype='<U3'), array(['NNS'], dtype='<U3'),\n",
       "                 array(['POS'], dtype='<U3'), array(['PRP'], dtype='<U3'),\n",
       "                 array(['PRP$'], dtype='<U4'), array(['RB'], dtype='<U2'),\n",
       "                 array(['RP'], dtype='<U2'), array(['TO'], dtype='<U2'),\n",
       "                 array(['UH'], dtype='<U2'), array(['VB'], dtype='<U2'),\n",
       "                 array(['VBD'], dtype='<U3'), array(['VBG'], dtype='<U3'),\n",
       "                 array(['VBN'], dtype='<U3'), array(['VBP'], dtype='<U3'),\n",
       "                 array(['VBZ'], dtype='<U3'), array(['WDT'], dtype='<U3'),\n",
       "                 array(['WP'], dtype='<U2'), array(['WRB'], dtype='<U3')]],\n",
       "               dtype=object), array([[0, 0, 0, ..., 0, 0, 0],\n",
       "                [0, 0, 0, ..., 0, 0, 0],\n",
       "                [0, 0, 0, ..., 0, 0, 0],\n",
       "                ...,\n",
       "                [0, 0, 0, ..., 0, 0, 0],\n",
       "                [0, 1, 0, ..., 0, 0, 0],\n",
       "                [0, 0, 0, ..., 0, 0, 0]], dtype=uint8))                                                         ,\n",
       "         (array(['Dependency_role'], dtype='<U15'), array([[array(['ADV'], dtype='<U3'), array(['AMOD'], dtype='<U4'),\n",
       "                 array(['CC'], dtype='<U2'), array(['COORD'], dtype='<U5'),\n",
       "                 array(['DEP'], dtype='<U3'), array(['IOBJ'], dtype='<U4'),\n",
       "                 array(['NMOD'], dtype='<U4'), array(['OBJ'], dtype='<U3'),\n",
       "                 array(['P'], dtype='<U1'), array(['PMOD'], dtype='<U4'),\n",
       "                 array(['PRD'], dtype='<U3'), array(['PRN'], dtype='<U3'),\n",
       "                 array(['PRT'], dtype='<U3'), array(['ROOT'], dtype='<U4'),\n",
       "                 array(['SBJ'], dtype='<U3'), array(['VC'], dtype='<U2'),\n",
       "                 array(['VMOD'], dtype='<U4')]], dtype=object), array([[0, 0, 0, ..., 1, 0, 0],\n",
       "                [0, 0, 0, ..., 0, 0, 0],\n",
       "                [1, 0, 0, ..., 0, 0, 0],\n",
       "                ...,\n",
       "                [0, 0, 0, ..., 0, 0, 0],\n",
       "                [0, 0, 0, ..., 0, 0, 0],\n",
       "                [0, 0, 0, ..., 0, 0, 0]], dtype=uint8))                                                               ]],\n",
       "       dtype=[('type', 'O'), ('names', 'O'), ('values', 'O')])}"
      ]
     },
     "execution_count": 4,
     "metadata": {},
     "output_type": "execute_result"
    }
   ],
   "source": [
    "#iterate through mat_data['features'] and print each feature\n",
    "for i in mat_data['features']:\n",
    "    print(i.dtype)\n",
    "mat_data"
   ]
  },
  {
   "cell_type": "code",
   "execution_count": 38,
   "metadata": {},
   "outputs": [
    {
     "data": {
      "text/plain": [
       "dict_keys(['__header__', '__version__', '__globals__', 'features'])"
      ]
     },
     "execution_count": 38,
     "metadata": {},
     "output_type": "execute_result"
    }
   ],
   "source": [
    "mat_data.keys()"
   ]
  },
  {
   "cell_type": "code",
   "execution_count": 39,
   "metadata": {},
   "outputs": [
    {
     "data": {
      "text/plain": [
       "array([[(array(['NNSE'], dtype='<U4'), array([[array(['s1000_1'], dtype='<U7'),\n",
       "                array(['s1000_10'], dtype='<U8'),\n",
       "                array(['s1000_15'], dtype='<U8'),\n",
       "                array(['s1000_21'], dtype='<U8'),\n",
       "                array(['s1000_30'], dtype='<U8'),\n",
       "                array(['s1000_48'], dtype='<U8'),\n",
       "                array(['s1000_66'], dtype='<U8'),\n",
       "                array(['s1000_72'], dtype='<U8'),\n",
       "                array(['s1000_75'], dtype='<U8'),\n",
       "                array(['s1000_82'], dtype='<U8'),\n",
       "                array(['s1000_97'], dtype='<U8'),\n",
       "                array(['s1000_98'], dtype='<U8'),\n",
       "                array(['s1000_117'], dtype='<U9'),\n",
       "                array(['s1000_132'], dtype='<U9'),\n",
       "                array(['s1000_135'], dtype='<U9'),\n",
       "                array(['s1000_163'], dtype='<U9'),\n",
       "                array(['s1000_170'], dtype='<U9'),\n",
       "                array(['s1000_182'], dtype='<U9'),\n",
       "                array(['s1000_197'], dtype='<U9'),\n",
       "                array(['s1000_213'], dtype='<U9'),\n",
       "                array(['s1000_222'], dtype='<U9'),\n",
       "                array(['s1000_253'], dtype='<U9'),\n",
       "                array(['s1000_255'], dtype='<U9'),\n",
       "                array(['s1000_264'], dtype='<U9'),\n",
       "                array(['s1000_282'], dtype='<U9'),\n",
       "                array(['s1000_284'], dtype='<U9'),\n",
       "                array(['s1000_286'], dtype='<U9'),\n",
       "                array(['s1000_297'], dtype='<U9'),\n",
       "                array(['s1000_298'], dtype='<U9'),\n",
       "                array(['s1000_303'], dtype='<U9'),\n",
       "                array(['s1000_312'], dtype='<U9'),\n",
       "                array(['s1000_319'], dtype='<U9'),\n",
       "                array(['s1000_323'], dtype='<U9'),\n",
       "                array(['s1000_324'], dtype='<U9'),\n",
       "                array(['s1000_334'], dtype='<U9'),\n",
       "                array(['s1000_349'], dtype='<U9'),\n",
       "                array(['s1000_373'], dtype='<U9'),\n",
       "                array(['s1000_380'], dtype='<U9'),\n",
       "                array(['s1000_389'], dtype='<U9'),\n",
       "                array(['s1000_399'], dtype='<U9'),\n",
       "                array(['s1000_430'], dtype='<U9'),\n",
       "                array(['s1000_435'], dtype='<U9'),\n",
       "                array(['s1000_447'], dtype='<U9'),\n",
       "                array(['s1000_454'], dtype='<U9'),\n",
       "                array(['s1000_456'], dtype='<U9'),\n",
       "                array(['s1000_467'], dtype='<U9'),\n",
       "                array(['s1000_469'], dtype='<U9'),\n",
       "                array(['s1000_474'], dtype='<U9'),\n",
       "                array(['s1000_475'], dtype='<U9'),\n",
       "                array(['s1000_488'], dtype='<U9'),\n",
       "                array(['s1000_493'], dtype='<U9'),\n",
       "                array(['s1000_509'], dtype='<U9'),\n",
       "                array(['s1000_512'], dtype='<U9'),\n",
       "                array(['s1000_519'], dtype='<U9'),\n",
       "                array(['s1000_527'], dtype='<U9'),\n",
       "                array(['s1000_535'], dtype='<U9'),\n",
       "                array(['s1000_538'], dtype='<U9'),\n",
       "                array(['s1000_545'], dtype='<U9'),\n",
       "                array(['s1000_549'], dtype='<U9'),\n",
       "                array(['s1000_557'], dtype='<U9'),\n",
       "                array(['s1000_560'], dtype='<U9'),\n",
       "                array(['s1000_566'], dtype='<U9'),\n",
       "                array(['s1000_582'], dtype='<U9'),\n",
       "                array(['s1000_586'], dtype='<U9'),\n",
       "                array(['s1000_592'], dtype='<U9'),\n",
       "                array(['s1000_603'], dtype='<U9'),\n",
       "                array(['s1000_612'], dtype='<U9'),\n",
       "                array(['s1000_615'], dtype='<U9'),\n",
       "                array(['s1000_620'], dtype='<U9'),\n",
       "                array(['s1000_635'], dtype='<U9'),\n",
       "                array(['s1000_646'], dtype='<U9'),\n",
       "                array(['s1000_653'], dtype='<U9'),\n",
       "                array(['s1000_673'], dtype='<U9'),\n",
       "                array(['s1000_681'], dtype='<U9'),\n",
       "                array(['s1000_696'], dtype='<U9'),\n",
       "                array(['s1000_698'], dtype='<U9'),\n",
       "                array(['s1000_700'], dtype='<U9'),\n",
       "                array(['s1000_722'], dtype='<U9'),\n",
       "                array(['s1000_724'], dtype='<U9'),\n",
       "                array(['s1000_774'], dtype='<U9'),\n",
       "                array(['s1000_775'], dtype='<U9'),\n",
       "                array(['s1000_777'], dtype='<U9'),\n",
       "                array(['s1000_779'], dtype='<U9'),\n",
       "                array(['s1000_780'], dtype='<U9'),\n",
       "                array(['s1000_784'], dtype='<U9'),\n",
       "                array(['s1000_796'], dtype='<U9'),\n",
       "                array(['s1000_797'], dtype='<U9'),\n",
       "                array(['s1000_808'], dtype='<U9'),\n",
       "                array(['s1000_856'], dtype='<U9'),\n",
       "                array(['s1000_859'], dtype='<U9'),\n",
       "                array(['s1000_864'], dtype='<U9'),\n",
       "                array(['s1000_866'], dtype='<U9'),\n",
       "                array(['s1000_873'], dtype='<U9'),\n",
       "                array(['s1000_893'], dtype='<U9'),\n",
       "                array(['s1000_928'], dtype='<U9'),\n",
       "                array(['s1000_946'], dtype='<U9'),\n",
       "                array(['s1000_971'], dtype='<U9'),\n",
       "                array(['s1000_977'], dtype='<U9'),\n",
       "                array(['s1000_978'], dtype='<U9'),\n",
       "                array(['s1000_984'], dtype='<U9')]], dtype=object), array([[0.12193731, 0.        , 0.        , ..., 0.        , 0.        ,\n",
       "                0.        ],\n",
       "               [0.        , 0.        , 0.        , ..., 0.        , 0.        ,\n",
       "                0.        ],\n",
       "               [0.        , 0.        , 0.        , ..., 0.        , 0.        ,\n",
       "                0.37453349],\n",
       "               ...,\n",
       "               [0.        , 0.        , 0.01285555, ..., 0.        , 0.        ,\n",
       "                0.        ],\n",
       "               [0.        , 0.        , 0.        , ..., 0.        , 0.        ,\n",
       "                0.        ],\n",
       "               [0.        , 0.        , 0.        , ..., 0.        , 0.        ,\n",
       "                0.        ]]))                                                                                                              ,\n",
       "        (array(['Speech'], dtype='<U6'), array([[array(['speak_sticky'], dtype='<U12'),\n",
       "                array(['speak'], dtype='<U5')]], dtype=object), array([[0, 0],\n",
       "               [0, 0],\n",
       "               [0, 0],\n",
       "               ...,\n",
       "               [0, 0],\n",
       "               [0, 0],\n",
       "               [0, 0]], dtype=uint8))                                                  ,\n",
       "        (array(['Motion'], dtype='<U6'), array([[array(['fly_sticky'], dtype='<U10'),\n",
       "                array(['manipulate_sticky'], dtype='<U17'),\n",
       "                array(['move_sticky'], dtype='<U11'),\n",
       "                array(['collidePhys_sticky'], dtype='<U18'),\n",
       "                array(['fly'], dtype='<U3'), array(['manipulate'], dtype='<U10'),\n",
       "                array(['move'], dtype='<U4')]], dtype=object), array([[0, 0, 0, ..., 0, 0, 0],\n",
       "               [0, 0, 0, ..., 0, 0, 0],\n",
       "               [0, 0, 0, ..., 0, 0, 0],\n",
       "               ...,\n",
       "               [0, 0, 0, ..., 0, 0, 0],\n",
       "               [0, 0, 0, ..., 0, 0, 0],\n",
       "               [0, 0, 0, ..., 0, 0, 0]], dtype=uint8))                                        ,\n",
       "        (array(['Emotion'], dtype='<U7'), array([[array(['annoyed'], dtype='<U7'),\n",
       "                array(['commanding'], dtype='<U10'),\n",
       "                array(['dislike'], dtype='<U7'), array(['fear'], dtype='<U4'),\n",
       "                array(['like'], dtype='<U4'),\n",
       "                array(['nervousness'], dtype='<U11'),\n",
       "                array(['questioning'], dtype='<U11'),\n",
       "                array(['wonder'], dtype='<U6'),\n",
       "                array(['annoyed_sticky'], dtype='<U14'),\n",
       "                array(['commanding_sticky'], dtype='<U17'),\n",
       "                array(['cynical_sticky'], dtype='<U14'),\n",
       "                array(['dislike_sticky'], dtype='<U14'),\n",
       "                array(['fear_sticky'], dtype='<U11'),\n",
       "                array(['hurtMental_sticky'], dtype='<U17'),\n",
       "                array(['hurtPhys_sticky'], dtype='<U15'),\n",
       "                array(['like_sticky'], dtype='<U11'),\n",
       "                array(['nervousness_sticky'], dtype='<U18'),\n",
       "                array(['pleading_sticky'], dtype='<U15'),\n",
       "                array(['praising_sticky'], dtype='<U15'),\n",
       "                array(['pride_sticky'], dtype='<U12'),\n",
       "                array(['questioning_sticky'], dtype='<U18'),\n",
       "                array(['relief_sticky'], dtype='<U13'),\n",
       "                array(['wonder_sticky'], dtype='<U13')]], dtype=object), array([[0, 0, 0, ..., 0, 0, 0],\n",
       "               [0, 0, 0, ..., 0, 0, 0],\n",
       "               [0, 0, 0, ..., 0, 0, 0],\n",
       "               ...,\n",
       "               [0, 0, 0, ..., 0, 0, 0],\n",
       "               [0, 0, 0, ..., 0, 0, 0],\n",
       "               [0, 0, 0, ..., 0, 0, 0]], dtype=uint8))                                                  ,\n",
       "        (array(['Verbs'], dtype='<U5'), array([[array(['be'], dtype='<U2'), array(['hear'], dtype='<U4'),\n",
       "                array(['know'], dtype='<U4'), array(['see'], dtype='<U3'),\n",
       "                array(['tell'], dtype='<U4')]], dtype=object), array([[0, 0, 0, 0, 0],\n",
       "               [0, 0, 0, 0, 0],\n",
       "               [0, 0, 0, 0, 0],\n",
       "               ...,\n",
       "               [0, 0, 0, 0, 0],\n",
       "               [0, 0, 0, 0, 0],\n",
       "               [0, 0, 0, 0, 0]], dtype=uint8))                                                           ,\n",
       "        (array(['Characters'], dtype='<U10'), array([[array(['draco'], dtype='<U5'), array(['filch'], dtype='<U5'),\n",
       "                array(['harry'], dtype='<U5'), array(['herm'], dtype='<U4'),\n",
       "                array(['hooch'], dtype='<U5'), array(['minerva'], dtype='<U7'),\n",
       "                array(['neville'], dtype='<U7'), array(['peeves'], dtype='<U6'),\n",
       "                array(['ron'], dtype='<U3'), array(['wood'], dtype='<U4')]],\n",
       "              dtype=object), array([[0, 0, 1, ..., 0, 0, 0],\n",
       "               [0, 0, 0, ..., 0, 0, 0],\n",
       "               [0, 0, 0, ..., 0, 0, 0],\n",
       "               ...,\n",
       "               [0, 0, 0, ..., 0, 0, 0],\n",
       "               [0, 0, 0, ..., 0, 0, 0],\n",
       "               [0, 0, 0, ..., 0, 0, 0]], dtype=uint8))                                                             ,\n",
       "        (array(['Visual'], dtype='<U6'), array([[array(['word_length'], dtype='<U11'),\n",
       "                array(['var_WL'], dtype='<U6')]], dtype=object), array([[5, 0],\n",
       "               [3, 0],\n",
       "               [5, 0],\n",
       "               ...,\n",
       "               [8, 0],\n",
       "               [4, 0],\n",
       "               [1, 0]], dtype=uint8))                                                 ,\n",
       "        (array(['Word_Num'], dtype='<U8'), array(['sentence_length'], dtype='<U15'), array([[ 1],\n",
       "               [ 2],\n",
       "               [ 3],\n",
       "               ...,\n",
       "               [19],\n",
       "               [20],\n",
       "               [ 0]], dtype=uint8))                                                              ,\n",
       "        (array(['Part_of_speech'], dtype='<U14'), array([[array([','], dtype='<U1'), array(['.'], dtype='<U1'),\n",
       "                array([':'], dtype='<U1'), array(['CC'], dtype='<U2'),\n",
       "                array(['CD'], dtype='<U2'), array(['DT'], dtype='<U2'),\n",
       "                array(['IN'], dtype='<U2'), array(['JJ'], dtype='<U2'),\n",
       "                array(['MD'], dtype='<U2'), array(['NN'], dtype='<U2'),\n",
       "                array(['NNP'], dtype='<U3'), array(['NNS'], dtype='<U3'),\n",
       "                array(['POS'], dtype='<U3'), array(['PRP'], dtype='<U3'),\n",
       "                array(['PRP$'], dtype='<U4'), array(['RB'], dtype='<U2'),\n",
       "                array(['RP'], dtype='<U2'), array(['TO'], dtype='<U2'),\n",
       "                array(['UH'], dtype='<U2'), array(['VB'], dtype='<U2'),\n",
       "                array(['VBD'], dtype='<U3'), array(['VBG'], dtype='<U3'),\n",
       "                array(['VBN'], dtype='<U3'), array(['VBP'], dtype='<U3'),\n",
       "                array(['VBZ'], dtype='<U3'), array(['WDT'], dtype='<U3'),\n",
       "                array(['WP'], dtype='<U2'), array(['WRB'], dtype='<U3')]],\n",
       "              dtype=object), array([[0, 0, 0, ..., 0, 0, 0],\n",
       "               [0, 0, 0, ..., 0, 0, 0],\n",
       "               [0, 0, 0, ..., 0, 0, 0],\n",
       "               ...,\n",
       "               [0, 0, 0, ..., 0, 0, 0],\n",
       "               [0, 1, 0, ..., 0, 0, 0],\n",
       "               [0, 0, 0, ..., 0, 0, 0]], dtype=uint8))                                                         ,\n",
       "        (array(['Dependency_role'], dtype='<U15'), array([[array(['ADV'], dtype='<U3'), array(['AMOD'], dtype='<U4'),\n",
       "                array(['CC'], dtype='<U2'), array(['COORD'], dtype='<U5'),\n",
       "                array(['DEP'], dtype='<U3'), array(['IOBJ'], dtype='<U4'),\n",
       "                array(['NMOD'], dtype='<U4'), array(['OBJ'], dtype='<U3'),\n",
       "                array(['P'], dtype='<U1'), array(['PMOD'], dtype='<U4'),\n",
       "                array(['PRD'], dtype='<U3'), array(['PRN'], dtype='<U3'),\n",
       "                array(['PRT'], dtype='<U3'), array(['ROOT'], dtype='<U4'),\n",
       "                array(['SBJ'], dtype='<U3'), array(['VC'], dtype='<U2'),\n",
       "                array(['VMOD'], dtype='<U4')]], dtype=object), array([[0, 0, 0, ..., 1, 0, 0],\n",
       "               [0, 0, 0, ..., 0, 0, 0],\n",
       "               [1, 0, 0, ..., 0, 0, 0],\n",
       "               ...,\n",
       "               [0, 0, 0, ..., 0, 0, 0],\n",
       "               [0, 0, 0, ..., 0, 0, 0],\n",
       "               [0, 0, 0, ..., 0, 0, 0]], dtype=uint8))                                                               ]],\n",
       "      dtype=[('type', 'O'), ('names', 'O'), ('values', 'O')])"
      ]
     },
     "execution_count": 39,
     "metadata": {},
     "output_type": "execute_result"
    }
   ],
   "source": [
    "mat_data['features']"
   ]
  },
  {
   "cell_type": "code",
   "execution_count": 60,
   "metadata": {},
   "outputs": [
    {
     "data": {
      "text/plain": [
       "(23,)"
      ]
     },
     "execution_count": 60,
     "metadata": {},
     "output_type": "execute_result"
    }
   ],
   "source": [
    "mat_data['features'][0][3]['values'][0].shape"
   ]
  },
  {
   "cell_type": "code",
   "execution_count": 54,
   "metadata": {},
   "outputs": [
    {
     "data": {
      "text/plain": [
       "(5176, 2)"
      ]
     },
     "execution_count": 54,
     "metadata": {},
     "output_type": "execute_result"
    }
   ],
   "source": [
    "mat_data['features'][0][1]['values'].shape"
   ]
  },
  {
   "cell_type": "code",
   "execution_count": 55,
   "metadata": {},
   "outputs": [
    {
     "data": {
      "text/plain": [
       "195"
      ]
     },
     "execution_count": 55,
     "metadata": {},
     "output_type": "execute_result"
    }
   ],
   "source": [
    "feat_count = 0\n",
    "for i in range(10):\n",
    "    feat_count += mat_data['features'][0][i]['values'].shape[1]\n",
    "\n",
    "feat_count"
   ]
  },
  {
   "cell_type": "code",
   "execution_count": 40,
   "metadata": {},
   "outputs": [
    {
     "data": {
      "text/plain": [
       "(1, 10)"
      ]
     },
     "execution_count": 40,
     "metadata": {},
     "output_type": "execute_result"
    }
   ],
   "source": [
    "#get the size fo mat_data\n",
    "mat_data['features'].shape"
   ]
  },
  {
   "cell_type": "code",
   "execution_count": 6,
   "metadata": {},
   "outputs": [],
   "source": [
    "#load the dat from data_subject_I.npy\n",
    "\n",
    "data = np.load('data/fmri/data_subject_I.npy')\n",
    "\n"
   ]
  },
  {
   "cell_type": "code",
   "execution_count": 27,
   "metadata": {},
   "outputs": [
    {
     "data": {
      "text/plain": [
       "(1211, 25263)"
      ]
     },
     "execution_count": 27,
     "metadata": {},
     "output_type": "execute_result"
    }
   ],
   "source": [
    "data.shape"
   ]
  },
  {
   "cell_type": "code",
   "execution_count": 8,
   "metadata": {},
   "outputs": [
    {
     "data": {
      "text/plain": [
       "(1211, 25263)"
      ]
     },
     "execution_count": 8,
     "metadata": {},
     "output_type": "execute_result"
    }
   ],
   "source": [
    "data.shape"
   ]
  },
  {
   "cell_type": "code",
   "execution_count": 29,
   "metadata": {},
   "outputs": [
    {
     "data": {
      "text/plain": [
       "array([[-1.39391795, -0.49561   , -1.76625698, ..., -0.76615806,\n",
       "        -0.23244562, -0.14687156],\n",
       "       [ 0.53045415, -0.23248598,  0.35258046, ..., -0.00231856,\n",
       "        -0.24648212, -0.42928428],\n",
       "       [ 1.13308842,  0.33180387, -0.31458903, ...,  0.81599387,\n",
       "         1.31184511,  1.38407545],\n",
       "       ...,\n",
       "       [-1.5389841 , -2.01615294, -1.86653802, ..., -0.53180136,\n",
       "        -0.28571028,  0.37972915],\n",
       "       [-0.8578087 , -0.38549941, -0.77768154, ...,  0.11137602,\n",
       "        -0.0418572 ,  0.85104556],\n",
       "       [ 0.34480094, -0.19645626, -0.7265258 , ..., -0.07650719,\n",
       "        -0.11008846,  0.28848794]])"
      ]
     },
     "execution_count": 29,
     "metadata": {},
     "output_type": "execute_result"
    }
   ],
   "source": [
    "data"
   ]
  },
  {
   "cell_type": "code",
   "execution_count": 4,
   "metadata": {},
   "outputs": [],
   "source": [
    "#load the words_fmri.npy\n",
    "\n",
    "words = np.load('data/fmri/words_fmri.npy')"
   ]
  },
  {
   "cell_type": "code",
   "execution_count": 11,
   "metadata": {},
   "outputs": [
    {
     "data": {
      "text/plain": [
       "(5176,)"
      ]
     },
     "execution_count": 11,
     "metadata": {},
     "output_type": "execute_result"
    }
   ],
   "source": [
    "words.shape"
   ]
  },
  {
   "cell_type": "code",
   "execution_count": 31,
   "metadata": {},
   "outputs": [],
   "source": [
    "#store words in a text file\n",
    "\n",
    "np.savetxt('words.txt', words, fmt='%s')"
   ]
  },
  {
   "cell_type": "code",
   "execution_count": 5,
   "metadata": {},
   "outputs": [],
   "source": [
    "#load the time_words.npy\n",
    "\n",
    "time_words = np.load('data/fmri/time_words_fmri.npy')"
   ]
  },
  {
   "cell_type": "code",
   "execution_count": 6,
   "metadata": {},
   "outputs": [
    {
     "data": {
      "text/plain": [
       "array([  20. ,   20.5,   21. , ..., 2692. , 2692.5, 2693. ])"
      ]
     },
     "execution_count": 6,
     "metadata": {},
     "output_type": "execute_result"
    }
   ],
   "source": [
    "time_words"
   ]
  },
  {
   "cell_type": "code",
   "execution_count": 7,
   "metadata": {},
   "outputs": [],
   "source": [
    "#put time words in a text file\n",
    "\n",
    "np.savetxt('time_words.txt', time_words, fmt='%s')"
   ]
  },
  {
   "cell_type": "code",
   "execution_count": 9,
   "metadata": {},
   "outputs": [
    {
     "name": "stdout",
     "output_type": "stream",
     "text": [
      "700.0\n",
      "1404.0\n",
      "1962.0\n"
     ]
    }
   ],
   "source": [
    "#iterate through time_words until you find values that are more than 0.5 apart\n",
    "\n",
    "temp = time_words[0]\n",
    "for i in time_words:\n",
    "    if i - temp > 0.5:\n",
    "        print(i)\n",
    "    temp = i\n"
   ]
  },
  {
   "cell_type": "code",
   "execution_count": 1,
   "metadata": {},
   "outputs": [
    {
     "ename": "NameError",
     "evalue": "name 'time_words' is not defined",
     "output_type": "error",
     "traceback": [
      "\u001b[0;31m---------------------------------------------------------------------------\u001b[0m",
      "\u001b[0;31mNameError\u001b[0m                                 Traceback (most recent call last)",
      "\u001b[1;32m/home/aayush/supraword/1.ipynb Cell 24\u001b[0m line \u001b[0;36m1\n\u001b[0;32m----> <a href='vscode-notebook-cell:/home/aayush/supraword/1.ipynb#X32sZmlsZQ%3D%3D?line=0'>1</a>\u001b[0m time_words\n",
      "\u001b[0;31mNameError\u001b[0m: name 'time_words' is not defined"
     ]
    }
   ],
   "source": [
    "time_words"
   ]
  },
  {
   "cell_type": "code",
   "execution_count": 33,
   "metadata": {},
   "outputs": [
    {
     "data": {
      "text/plain": [
       "(5176,)"
      ]
     },
     "execution_count": 33,
     "metadata": {},
     "output_type": "execute_result"
    }
   ],
   "source": [
    "time_words.shape"
   ]
  },
  {
   "cell_type": "code",
   "execution_count": 35,
   "metadata": {},
   "outputs": [
    {
     "data": {
      "text/plain": [
       "1294.0"
      ]
     },
     "execution_count": 35,
     "metadata": {},
     "output_type": "execute_result"
    }
   ],
   "source": [
    "5176/4"
   ]
  },
  {
   "cell_type": "code",
   "execution_count": 25,
   "metadata": {},
   "outputs": [],
   "source": [
    "#store time_words into a text file\n",
    "# till the second decimal place\n",
    "np.savetxt('time_words.txt', time_words, fmt='%.2f')\n"
   ]
  },
  {
   "cell_type": "code",
   "execution_count": 15,
   "metadata": {},
   "outputs": [
    {
     "data": {
      "text/plain": [
       "1294.0"
      ]
     },
     "execution_count": 15,
     "metadata": {},
     "output_type": "execute_result"
    }
   ],
   "source": [
    "5176/4"
   ]
  },
  {
   "cell_type": "code",
   "execution_count": 16,
   "metadata": {},
   "outputs": [],
   "source": [
    "#load the time_fmri.npy\n",
    "\n",
    "time_fmri = np.load('data/fmri/time_fmri.npy')"
   ]
  },
  {
   "cell_type": "code",
   "execution_count": 18,
   "metadata": {},
   "outputs": [
    {
     "data": {
      "text/plain": [
       "(1351,)"
      ]
     },
     "execution_count": 18,
     "metadata": {},
     "output_type": "execute_result"
    }
   ],
   "source": [
    "time_fmri.shape"
   ]
  },
  {
   "cell_type": "code",
   "execution_count": 22,
   "metadata": {},
   "outputs": [
    {
     "data": {
      "text/plain": [
       "array([   0,    2,    4, ..., 2696, 2698, 2700], dtype=uint16)"
      ]
     },
     "execution_count": 22,
     "metadata": {},
     "output_type": "execute_result"
    }
   ],
   "source": [
    "time_fmri"
   ]
  },
  {
   "cell_type": "code",
   "execution_count": 28,
   "metadata": {},
   "outputs": [
    {
     "data": {
      "text/plain": [
       "(1351,)"
      ]
     },
     "execution_count": 28,
     "metadata": {},
     "output_type": "execute_result"
    }
   ],
   "source": [
    "time_fmri.shape"
   ]
  },
  {
   "cell_type": "code",
   "execution_count": 19,
   "metadata": {},
   "outputs": [],
   "source": [
    "#load the runs_fmri.npy\n",
    "\n",
    "runs_fmri = np.load('data/fmri/runs_fmri.npy') \n"
   ]
  },
  {
   "cell_type": "code",
   "execution_count": 21,
   "metadata": {},
   "outputs": [
    {
     "data": {
      "text/plain": [
       "(1351,)"
      ]
     },
     "execution_count": 21,
     "metadata": {},
     "output_type": "execute_result"
    }
   ],
   "source": [
    "runs_fmri.shape"
   ]
  },
  {
   "cell_type": "code",
   "execution_count": 32,
   "metadata": {},
   "outputs": [
    {
     "data": {
      "text/plain": [
       "array([1, 1, 1, ..., 4, 4, 4], dtype=uint16)"
      ]
     },
     "execution_count": 32,
     "metadata": {},
     "output_type": "execute_result"
    }
   ],
   "source": [
    "runs_fmri"
   ]
  },
  {
   "cell_type": "code",
   "execution_count": null,
   "metadata": {},
   "outputs": [],
   "source": []
  }
 ],
 "metadata": {
  "kernelspec": {
   "display_name": "Python 3",
   "language": "python",
   "name": "python3"
  },
  "language_info": {
   "codemirror_mode": {
    "name": "ipython",
    "version": 3
   },
   "file_extension": ".py",
   "mimetype": "text/x-python",
   "name": "python",
   "nbconvert_exporter": "python",
   "pygments_lexer": "ipython3",
   "version": "3.10.12"
  },
  "orig_nbformat": 4
 },
 "nbformat": 4,
 "nbformat_minor": 2
}
